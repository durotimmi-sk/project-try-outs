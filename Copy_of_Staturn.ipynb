{
  "nbformat": 4,
  "nbformat_minor": 0,
  "metadata": {
    "colab": {
      "provenance": [],
      "authorship_tag": "ABX9TyOgeSrxaZWolf0DMzVH5Fv9",
      "include_colab_link": true
    },
    "kernelspec": {
      "name": "python3",
      "display_name": "Python 3"
    },
    "language_info": {
      "name": "python"
    }
  },
  "cells": [
    {
      "cell_type": "markdown",
      "metadata": {
        "id": "view-in-github",
        "colab_type": "text"
      },
      "source": [
        "<a href=\"https://colab.research.google.com/github/durotimmi-sk/project-try-outs/blob/main/Copy_of_Staturn.ipynb\" target=\"_parent\"><img src=\"https://colab.research.google.com/assets/colab-badge.svg\" alt=\"Open In Colab\"/></a>"
      ]
    },
    {
      "cell_type": "code",
      "source": [
        "# Function to add a contact\n",
        "def add_contact(contacts):\n",
        "    name = input(\"Enter contact name: \")\n",
        "    number = input(\"Enter phone number: \")\n",
        "    contacts[name] = number\n",
        "    print(\"Contact added successfully.\")\n",
        "\n",
        "# Function to view all contacts\n",
        "def view_contacts(contacts):\n",
        "    if len(contacts) == 0:\n",
        "        print(\"No contacts found.\")\n",
        "    else:\n",
        "        print(\"Contacts:\")\n",
        "        for name, number in contacts.items():\n",
        "            print(f\"{name}: {number}\")\n",
        "\n",
        "# Function to search for a contact\n",
        "def search_contact(contacts):\n",
        "    name = input(\"Enter contact name to search: \")\n",
        "    if name in contacts:\n",
        "        print(f\"Phone number for {name}: {contacts[name]}\")\n",
        "    else:\n",
        "        print(\"Contact not found.\")\n",
        "\n",
        "# Main function\n",
        "def main():\n",
        "    contacts = {}\n",
        "    while True:\n",
        "        print(\"\\nMenu:\")\n",
        "        print(\"1. Add contact\")\n",
        "        print(\"2. View contacts\")\n",
        "        print(\"3. Search contact\")\n",
        "        print(\"4. Exit\")\n",
        "\n",
        "        choice = input(\"Enter your choice: \")\n",
        "\n",
        "        if choice == \"1\":\n",
        "            add_contact(contacts)\n",
        "        elif choice == \"2\":\n",
        "            view_contacts(contacts)\n",
        "        elif choice == \"3\":\n",
        "            search_contact(contacts)\n",
        "        elif choice == \"4\":\n",
        "            print(\"Exiting program.\")\n",
        "            break\n",
        "        else:\n",
        "            print(\"Invalid choice. Please try again.\")\n",
        "\n",
        "if __name__ == \"__main__\":\n",
        "    main()\n",
        "# Function to add a contact\n",
        "def add_contact(contacts):\n",
        "    name = input(\"Enter contact name: \")\n",
        "    number = input(\"Enter phone number: \")\n",
        "    contacts[name] = number\n",
        "    print(\"Contact added successfully.\")\n",
        "\n",
        "# Function to view all contacts\n",
        "def view_contacts(contacts):\n",
        "    if len(contacts) == 0:\n",
        "        print(\"No contacts found.\")\n",
        "    else:\n",
        "        print(\"Contacts:\")\n",
        "        for name, number in contacts.items():\n",
        "            print(f\"{name}: {number}\")\n",
        "\n",
        "# Function to search for a contact\n",
        "def search_contact(contacts):\n",
        "    name = input(\"Enter contact name to search: \")\n",
        "    if name in contacts:\n",
        "        print(f\"Phone number for {name}: {contacts[name]}\")\n",
        "    else:\n",
        "        print(\"Contact not found.\")\n",
        "\n",
        "# Main function\n",
        "def main():\n",
        "    contacts = {}\n",
        "    while True:\n",
        "        print(\"\\nMenu:\")\n",
        "        print(\"1. Add contact\")\n",
        "        print(\"2. View contacts\")\n",
        "        print(\"3. Search contact\")\n",
        "        print(\"4. Exit\")\n",
        "\n",
        "        choice = input(\"Enter your choice: \")\n",
        "\n",
        "        if choice == \"1\":\n",
        "            add_contact(contacts)\n",
        "        elif choice == \"2\":\n",
        "            view_contacts(contacts)\n",
        "        elif choice == \"3\":\n",
        "            search_contact(contacts)\n",
        "        elif choice == \"4\":\n",
        "            print(\"Exiting program.\")\n",
        "            break\n",
        "        else:\n",
        "            print(\"Invalid choice. Please try again.\")\n",
        "\n",
        "if __name__ == \"__main__\":\n",
        "    main()\n"
      ],
      "metadata": {
        "id": "uwporDsVG8vC",
        "outputId": "916d2add-4954-44be-ef7a-3f13eae79dc5",
        "colab": {
          "base_uri": "https://localhost:8080/"
        }
      },
      "execution_count": null,
      "outputs": [
        {
          "output_type": "stream",
          "name": "stdout",
          "text": [
            "\n",
            "Menu:\n",
            "1. Add contact\n",
            "2. View contacts\n",
            "3. Search contact\n",
            "4. Exit\n"
          ]
        }
      ]
    }
  ]
}